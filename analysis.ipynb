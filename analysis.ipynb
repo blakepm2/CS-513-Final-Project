{
 "cells": [
  {
   "cell_type": "markdown",
   "metadata": {},
   "source": [
    "# CS 513 Final Project Phase II Report (Team 210 Wizards of Illinois Place)"
   ]
  },
  {
   "cell_type": "markdown",
   "metadata": {},
   "source": [
    "**Team Members**\n",
    "\n",
    "- Blake McBride (blakepm2@illinois.edu)\n",
    "- Abdelrahman Hamdan (ah57@illinois.edu)\n",
    "- Anshul Gonswami (ashlug3@illinois.edu)"
   ]
  },
  {
   "cell_type": "markdown",
   "metadata": {},
   "source": [
    "## I. Description of Data Cleaning Performed"
   ]
  },
  {
   "cell_type": "markdown",
   "metadata": {},
   "source": [
    "Below we outline the actual steps of data cleaning that were performed for our use case of standardizing dish names.\n",
    "\n",
    "1) Convert To Titlecase. Many of the fields below were all capital, which didn't make sense of what they were representing\n",
    "- Name, Sponser, Event, Venue, Place, Physical Description, Easter, etc\n",
    "\n",
    "2) Convert notes to lowercase. There are long description of notes in menu.csv. It would make sense to have those notes lowercase. \n",
    "\n",
    "3) Cluster Events, since many different variations for the same word, such as Dinner having 10 different variations. Combining them gives much more clarity. \n",
    "\n",
    "4) Converted Date String to Date Type so that analysis software can correctly recognize that the columns are indeed dates. \n",
    "\n",
    "5) Most values in Dish.csv were numbers. Convert appropriate columns to number type.\n",
    "\n",
    "6) Repeated same step as 5 for other sheets\n",
    "\n",
    "7) Removed Menu Items whose price is greater than $100,000, as a menu item greater than 100,000 is not resonable\n",
    "\n",
    "8) Used Text Faucet and clustering in Venue. Similar reason to #3, where we don't want variations of text that is representing the same word. \n",
    "\n",
    "9) Used Date Faucet in First_Appeared_Year and Last_Appeared in Dish.CV to remove years greater than 2025, since it is not possible for menu items to appear in years greater than 2025 (as of the current date)"
   ]
  },
  {
   "cell_type": "markdown",
   "metadata": {},
   "source": [
    "## II. Document Data Quality Changes"
   ]
  },
  {
   "cell_type": "code",
   "execution_count": 1,
   "metadata": {},
   "outputs": [],
   "source": [
    "import pandas as pd\n",
    "import pandasql as psql\n",
    "from helpers import read_in_data"
   ]
  },
  {
   "cell_type": "code",
   "execution_count": 2,
   "metadata": {},
   "outputs": [],
   "source": [
    "dish_df, menu_df, menu_item_df, menu_page_df = read_in_data()"
   ]
  },
  {
   "cell_type": "code",
   "execution_count": 3,
   "metadata": {},
   "outputs": [
    {
     "data": {
      "text/html": [
       "<div>\n",
       "<style scoped>\n",
       "    .dataframe tbody tr th:only-of-type {\n",
       "        vertical-align: middle;\n",
       "    }\n",
       "\n",
       "    .dataframe tbody tr th {\n",
       "        vertical-align: top;\n",
       "    }\n",
       "\n",
       "    .dataframe thead th {\n",
       "        text-align: right;\n",
       "    }\n",
       "</style>\n",
       "<table border=\"1\" class=\"dataframe\">\n",
       "  <thead>\n",
       "    <tr style=\"text-align: right;\">\n",
       "      <th></th>\n",
       "      <th>id</th>\n",
       "      <th>name</th>\n",
       "      <th>description</th>\n",
       "      <th>menus_appeared</th>\n",
       "      <th>times_appeared</th>\n",
       "      <th>first_appeared</th>\n",
       "      <th>last_appeared</th>\n",
       "      <th>lowest_price</th>\n",
       "      <th>highest_price</th>\n",
       "    </tr>\n",
       "  </thead>\n",
       "  <tbody>\n",
       "    <tr>\n",
       "      <th>0</th>\n",
       "      <td>1</td>\n",
       "      <td>Consomme printaniere royal</td>\n",
       "      <td>NaN</td>\n",
       "      <td>8</td>\n",
       "      <td>8</td>\n",
       "      <td>1897</td>\n",
       "      <td>1927</td>\n",
       "      <td>0.20</td>\n",
       "      <td>0.4</td>\n",
       "    </tr>\n",
       "    <tr>\n",
       "      <th>1</th>\n",
       "      <td>2</td>\n",
       "      <td>Chicken gumbo</td>\n",
       "      <td>NaN</td>\n",
       "      <td>111</td>\n",
       "      <td>117</td>\n",
       "      <td>1895</td>\n",
       "      <td>1960</td>\n",
       "      <td>0.10</td>\n",
       "      <td>0.8</td>\n",
       "    </tr>\n",
       "    <tr>\n",
       "      <th>2</th>\n",
       "      <td>3</td>\n",
       "      <td>Tomato aux croutons</td>\n",
       "      <td>NaN</td>\n",
       "      <td>13</td>\n",
       "      <td>13</td>\n",
       "      <td>1893</td>\n",
       "      <td>1917</td>\n",
       "      <td>0.25</td>\n",
       "      <td>0.4</td>\n",
       "    </tr>\n",
       "    <tr>\n",
       "      <th>3</th>\n",
       "      <td>4</td>\n",
       "      <td>Onion au gratin</td>\n",
       "      <td>NaN</td>\n",
       "      <td>41</td>\n",
       "      <td>41</td>\n",
       "      <td>1900</td>\n",
       "      <td>1971</td>\n",
       "      <td>0.25</td>\n",
       "      <td>1.0</td>\n",
       "    </tr>\n",
       "    <tr>\n",
       "      <th>4</th>\n",
       "      <td>5</td>\n",
       "      <td>St. Emilion</td>\n",
       "      <td>NaN</td>\n",
       "      <td>66</td>\n",
       "      <td>68</td>\n",
       "      <td>1881</td>\n",
       "      <td>1981</td>\n",
       "      <td>0.00</td>\n",
       "      <td>18.0</td>\n",
       "    </tr>\n",
       "  </tbody>\n",
       "</table>\n",
       "</div>"
      ],
      "text/plain": [
       "   id                        name  description  menus_appeared  \\\n",
       "0   1  Consomme printaniere royal          NaN               8   \n",
       "1   2               Chicken gumbo          NaN             111   \n",
       "2   3         Tomato aux croutons          NaN              13   \n",
       "3   4             Onion au gratin          NaN              41   \n",
       "4   5                 St. Emilion          NaN              66   \n",
       "\n",
       "   times_appeared  first_appeared  last_appeared  lowest_price  highest_price  \n",
       "0               8            1897           1927          0.20            0.4  \n",
       "1             117            1895           1960          0.10            0.8  \n",
       "2              13            1893           1917          0.25            0.4  \n",
       "3              41            1900           1971          0.25            1.0  \n",
       "4              68            1881           1981          0.00           18.0  "
      ]
     },
     "execution_count": 3,
     "metadata": {},
     "output_type": "execute_result"
    }
   ],
   "source": [
    "dish_df.head()"
   ]
  },
  {
   "cell_type": "code",
   "execution_count": 4,
   "metadata": {},
   "outputs": [
    {
     "name": "stdout",
     "output_type": "stream",
     "text": [
      "<class 'pandas.core.frame.DataFrame'>\n",
      "RangeIndex: 423397 entries, 0 to 423396\n",
      "Data columns (total 9 columns):\n",
      " #   Column          Non-Null Count   Dtype  \n",
      "---  ------          --------------   -----  \n",
      " 0   id              423397 non-null  int64  \n",
      " 1   name            423397 non-null  object \n",
      " 2   description     0 non-null       float64\n",
      " 3   menus_appeared  423397 non-null  int64  \n",
      " 4   times_appeared  423397 non-null  int64  \n",
      " 5   first_appeared  423397 non-null  int64  \n",
      " 6   last_appeared   423397 non-null  int64  \n",
      " 7   lowest_price    394297 non-null  float64\n",
      " 8   highest_price   394297 non-null  float64\n",
      "dtypes: float64(3), int64(5), object(1)\n",
      "memory usage: 29.1+ MB\n"
     ]
    }
   ],
   "source": [
    "dish_df.info()"
   ]
  },
  {
   "cell_type": "markdown",
   "metadata": {},
   "source": [
    "## Queries "
   ]
  },
  {
   "cell_type": "markdown",
   "metadata": {},
   "source": [
    "### Query 1: Identifying the count of distinct dish names before/after standardization"
   ]
  },
  {
   "cell_type": "code",
   "execution_count": null,
   "metadata": {},
   "outputs": [],
   "source": [
    "query = \"\"\"\n",
    "select distinct name\n",
    "  from dish_df\n",
    "order by 1 asc\n",
    "\"\"\"\n",
    "\n",
    "result = psql.sqldf(query, globals())"
   ]
  },
  {
   "cell_type": "code",
   "execution_count": null,
   "metadata": {},
   "outputs": [],
   "source": [
    "result"
   ]
  },
  {
   "cell_type": "markdown",
   "metadata": {},
   "source": [
    "### Query 2: Analyzing the average price of dishes in the catalog before/after standardization"
   ]
  },
  {
   "cell_type": "code",
   "execution_count": null,
   "metadata": {},
   "outputs": [],
   "source": [
    "query = \"\"\"\n",
    "select distinct name\n",
    "    , avg(highest_price) as avg_price\n",
    " from dish_df\n",
    "group by 1\n",
    "order by 2 desc\n",
    "\"\"\"\n",
    "\n",
    "result = psql.sqldf(query, globals())"
   ]
  },
  {
   "cell_type": "code",
   "execution_count": null,
   "metadata": {},
   "outputs": [],
   "source": [
    "result.head()"
   ]
  },
  {
   "cell_type": "markdown",
   "metadata": {},
   "source": [
    "## III. Create a Workflow Model"
   ]
  },
  {
   "cell_type": "markdown",
   "metadata": {},
   "source": [
    "<p align=\"center\">\n",
    "    <img src=\"OpenRefineFlow-1.png\">\n",
    "</p>"
   ]
  },
  {
   "cell_type": "markdown",
   "metadata": {},
   "source": [
    "## IV. Conclusions & Summary"
   ]
  },
  {
   "cell_type": "markdown",
   "metadata": {},
   "source": [
    "To summarize, in this project we initially set out to address the data quality problem of repeated dish names in the Dish dataset by standardizing dish names. Without standard naming conventions in place, it is impossible to perform accurate analysis on the popularity and pricing trends of dishes. Dishes whose names are mispelled, or use different terminology to refer to the same thing, create erroneous data with separate line items for producsts that should otherwise be examined together as a whole. To promote standardization, we leverage OpenRefine to merge similarly named dishes under the assumption that differences between certain dish names reflect true data quality issues. To analyze and quantify our results, and to determine whether or not we were indeed successful in improving data quality in our approach, we make use of Python; we employ packages in Python such as Pandas, which allows us to read our original and cleaned datasets into DataFrames, and PandaSQL to execute our queries for measuring data quality. We find that...\n",
    "\n",
    "For the purposes of this project, we divided the work up evenly among our group members based on our respective domain expertise. Anshul, having the most experience and comfort using OpenRefine, took care of the actual merging of dish names and our data cleaning steps within that platform. Blake and Abduhamdan, being more comfortable with analysis in Python, handled the queries and measurement framework to examine and quantify the results. "
   ]
  }
 ],
 "metadata": {
  "kernelspec": {
   "display_name": "Python 3",
   "language": "python",
   "name": "python3"
  },
  "language_info": {
   "codemirror_mode": {
    "name": "ipython",
    "version": 3
   },
   "file_extension": ".py",
   "mimetype": "text/x-python",
   "name": "python",
   "nbconvert_exporter": "python",
   "pygments_lexer": "ipython3",
   "version": "3.11.9"
  }
 },
 "nbformat": 4,
 "nbformat_minor": 2
}
